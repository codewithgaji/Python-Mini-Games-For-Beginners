{
 "cells": [
  {
   "cell_type": "code",
   "execution_count": null,
   "id": "90b7a91c",
   "metadata": {},
   "outputs": [],
   "source": [
    "import random\n",
    "\n",
    "def num_game():\n",
    "    print(\"\\nWelcome to Gaji's Guessing Game :)\")\n",
    "    print(\"You get to choose a number between 1 and 50.\")\n",
    "    print(\"If the number is correct, you win. You have 3 attempts!\")\n",
    "    \n",
    "    attempts = 0\n",
    "    max_attempts = 3\n",
    "    choice = random.randint(1, 51)  # Generate the random number once per game\n",
    "    \n",
    "    while attempts < max_attempts:\n",
    "        try:\n",
    "            player = int(input(\"Choose a number between 1 & 50: \"))\n",
    "            if player < 1 or player > 50:  # Check if the input is out of range\n",
    "                print(\"Please choose a number between 1 & 50.\")\n",
    "                continue\n",
    "            attempts += 1\n",
    "            if player == choice:\n",
    "                print(\"Congratulations, you win!\\n\")\n",
    "                q1 = input(\"Would you like to play again? \")\n",
    "                if q1 not in ['yes', 'Yes', 'yeah', 'okay']:\n",
    "                    print(\"Game over!\")\n",
    "                    break\n",
    "                else:\n",
    "                    num_game()\n",
    "            elif player < choice:\n",
    "                print(\"\\nThe number is higher, go higher!\")\n",
    "            else:  # player > choice\n",
    "                print(\"\\nThe number is lower, go lower!\")\n",
    "        except ValueError:  # Handle non-integer input\n",
    "            print(\"Invalid input! Only integer values are accepted.\")\n",
    "            continue\n",
    "    \n",
    "    if attempts == max_attempts and player != choice:\n",
    "        print(f\"Sorry, you're out of attempts. The correct number was {choice}.\")\n",
    "        print(\"Game over!\\n\")\n",
    "        q1 = input(\"Would you like to play again? \")\n",
    "        if q1 not in ['yes', 'Yes', 'yeah', 'okay']:\n",
    "            print(\"Thanks for playing :)\")\n",
    "        else:\n",
    "            num_game()\n",
    "        \n",
    "num_game()"
   ]
  },
  {
   "cell_type": "code",
   "execution_count": null,
   "id": "e2107c41",
   "metadata": {},
   "outputs": [],
   "source": []
  },
  {
   "cell_type": "code",
   "execution_count": null,
   "id": "6b6ebc89",
   "metadata": {},
   "outputs": [],
   "source": []
  },
  {
   "cell_type": "code",
   "execution_count": null,
   "id": "7768860d",
   "metadata": {},
   "outputs": [],
   "source": []
  }
 ],
 "metadata": {
  "kernelspec": {
   "display_name": "Python 3 (ipykernel)",
   "language": "python",
   "name": "python3"
  },
  "language_info": {
   "codemirror_mode": {
    "name": "ipython",
    "version": 3
   },
   "file_extension": ".py",
   "mimetype": "text/x-python",
   "name": "python",
   "nbconvert_exporter": "python",
   "pygments_lexer": "ipython3",
   "version": "3.9.12"
  }
 },
 "nbformat": 4,
 "nbformat_minor": 5
}
