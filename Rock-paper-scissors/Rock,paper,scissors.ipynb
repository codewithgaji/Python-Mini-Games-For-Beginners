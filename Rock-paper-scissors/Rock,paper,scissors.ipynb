{
 "cells": [
  {
   "cell_type": "code",
   "execution_count": null,
   "id": "8adbcaa7",
   "metadata": {},
   "outputs": [],
   "source": [
    "import random\n",
    "def rock_paper_scissors():\n",
    "    print(\"WELCOME TO THE ROCK PAPER SCISSORS GAME :) \")\n",
    "    print(\"You and Jarvis get 5 rounds of game play, good luck beating her :) \\n\")\n",
    "    choices = ['rock', 'paper', 'scissors']\n",
    "    player_score = 0\n",
    "    computer_score = 0\n",
    "    max_attempts = 5\n",
    "    attempts = 0\n",
    "    while attempts < max_attempts:\n",
    "        try:\n",
    "            player_choice = input('Enter rock, paper or scissors: ').lower()\n",
    "            attempts += 1\n",
    "            print(f\"\\nRound {attempts} of {max_attempts}\") # Improvemnt 1\n",
    "            if player_choice not in choices:\n",
    "                print('Invalid choice! Please choose rock, paper or scissors: ')\n",
    "                attempts -= 1 # improvemnent 2\n",
    "\n",
    "            computer_choice = random.choice(choices)\n",
    "            print(f\"Jarvis chose: {computer_choice}\")\n",
    "\n",
    "            if player_choice == computer_choice:\n",
    "                print(\"draw!\")\n",
    "\n",
    "            elif (player_choice == 'rock' and computer_choice == 'scissors') or \\\n",
    "                 (player_choice == 'paper' and computer_choice == 'rock') or \\\n",
    "                 (player_choice == 'scissors' and computer_choice == 'paper'):\n",
    "                print(\"Congratulations! You win\")\n",
    "                player_score += 1\n",
    "            else:\n",
    "                print('OOPS! You lose')\n",
    "                computer_score += 1\n",
    "               # The \"continue\" clause is not needed\n",
    "        except ValueError:\n",
    "            print('Invalid value')\n",
    "            \n",
    "    print(f\"\\nYou {player_score} -  {computer_score} Jarvis\") # optimization 1   \n",
    "    if computer_score > player_score:\n",
    "        print(\"\\noops! Jarvis wins\")\n",
    "    else:\n",
    "        print(\"Congratulations You win :)\")\n",
    "    \n",
    "    response = input(\"Would you like to play again? (yes/no): \").lower()\n",
    "    if response in ['yes', 'yeah', 'okay', 'yup', 'Yes', 'sure']:\n",
    "        print('Great! starting again...')\n",
    "        rock_paper_scissors()\n",
    "    else:\n",
    "        print('Thanks for playing!')\n",
    "        \n",
    "rock_paper_scissors()\n",
    "# Improvements --> if the choice is invalid it won't add to the players attempt\n",
    "# --> Show how many rounds the player has gone e.g(1 of 5 rounds)\n",
    "#--> Avoid recursion to stop stack over flow"
   ]
  },
  {
   "cell_type": "code",
   "execution_count": null,
   "id": "cea5feeb",
   "metadata": {},
   "outputs": [],
   "source": []
  },
  {
   "cell_type": "code",
   "execution_count": null,
   "id": "a5644aaf",
   "metadata": {},
   "outputs": [],
   "source": []
  },
  {
   "cell_type": "code",
   "execution_count": null,
   "id": "c5b4168f",
   "metadata": {},
   "outputs": [],
   "source": []
  }
 ],
 "metadata": {
  "kernelspec": {
   "display_name": "Python 3 (ipykernel)",
   "language": "python",
   "name": "python3"
  },
  "language_info": {
   "codemirror_mode": {
    "name": "ipython",
    "version": 3
   },
   "file_extension": ".py",
   "mimetype": "text/x-python",
   "name": "python",
   "nbconvert_exporter": "python",
   "pygments_lexer": "ipython3",
   "version": "3.9.12"
  }
 },
 "nbformat": 4,
 "nbformat_minor": 5
}
